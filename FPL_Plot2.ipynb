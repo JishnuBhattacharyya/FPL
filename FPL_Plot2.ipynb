{
  "nbformat": 4,
  "nbformat_minor": 0,
  "metadata": {
    "colab": {
      "name": "FPL_Plot2.ipynb",
      "version": "0.3.2",
      "provenance": [],
      "collapsed_sections": []
    },
    "kernelspec": {
      "name": "python3",
      "display_name": "Python 3"
    }
  },
  "cells": [
    {
      "cell_type": "code",
      "metadata": {
        "id": "wiKCYRI4y_bC",
        "colab_type": "code",
        "colab": {}
      },
      "source": [
        "import matplotlib.pyplot as plt # plotting\n",
        "import pandas as pd # data processing, CSV file I/O (e.g. pd.read_csv)\n",
        "import seaborn as sns"
      ],
      "execution_count": 0,
      "outputs": []
    },
    {
      "cell_type": "code",
      "metadata": {
        "id": "FdFq4BSszBZ_",
        "colab_type": "code",
        "colab": {
          "base_uri": "https://localhost:8080/",
          "height": 239
        },
        "outputId": "002e11ca-61f8-4a17-9acb-e5223e0f7baa"
      },
      "source": [
        "data=pd.read_csv('FPL_2018_19_Wk0.csv')\n",
        "data.head()"
      ],
      "execution_count": 6,
      "outputs": [
        {
          "output_type": "execute_result",
          "data": {
            "text/html": [
              "<div>\n",
              "<style scoped>\n",
              "    .dataframe tbody tr th:only-of-type {\n",
              "        vertical-align: middle;\n",
              "    }\n",
              "\n",
              "    .dataframe tbody tr th {\n",
              "        vertical-align: top;\n",
              "    }\n",
              "\n",
              "    .dataframe thead th {\n",
              "        text-align: right;\n",
              "    }\n",
              "</style>\n",
              "<table border=\"1\" class=\"dataframe\">\n",
              "  <thead>\n",
              "    <tr style=\"text-align: right;\">\n",
              "      <th></th>\n",
              "      <th>Name</th>\n",
              "      <th>Team</th>\n",
              "      <th>Position</th>\n",
              "      <th>Cost</th>\n",
              "      <th>Creativity</th>\n",
              "      <th>Influence</th>\n",
              "      <th>Threat</th>\n",
              "      <th>ICT</th>\n",
              "      <th>Goals_conceded</th>\n",
              "      <th>Goals_scored</th>\n",
              "      <th>Assists</th>\n",
              "      <th>Own_goals</th>\n",
              "      <th>Penalties_missed</th>\n",
              "      <th>Penalties_saved</th>\n",
              "      <th>Saves</th>\n",
              "      <th>Yellow_cards</th>\n",
              "      <th>Red_cards</th>\n",
              "      <th>TSB</th>\n",
              "      <th>Minutes</th>\n",
              "      <th>Bonus</th>\n",
              "      <th>Points</th>\n",
              "    </tr>\n",
              "  </thead>\n",
              "  <tbody>\n",
              "    <tr>\n",
              "      <th>0</th>\n",
              "      <td>Adam Smith</td>\n",
              "      <td>BOU</td>\n",
              "      <td>DEF</td>\n",
              "      <td>45</td>\n",
              "      <td>345.5</td>\n",
              "      <td>455.0</td>\n",
              "      <td>144.0</td>\n",
              "      <td>94.5</td>\n",
              "      <td>38</td>\n",
              "      <td>1</td>\n",
              "      <td>3</td>\n",
              "      <td>0</td>\n",
              "      <td>0</td>\n",
              "      <td>0</td>\n",
              "      <td>0</td>\n",
              "      <td>6</td>\n",
              "      <td>0</td>\n",
              "      <td>0.3</td>\n",
              "      <td>2067</td>\n",
              "      <td>3</td>\n",
              "      <td>56</td>\n",
              "    </tr>\n",
              "    <tr>\n",
              "      <th>1</th>\n",
              "      <td>Adrian</td>\n",
              "      <td>WHU</td>\n",
              "      <td>GKP</td>\n",
              "      <td>45</td>\n",
              "      <td>0.0</td>\n",
              "      <td>470.4</td>\n",
              "      <td>0.0</td>\n",
              "      <td>47.0</td>\n",
              "      <td>29</td>\n",
              "      <td>0</td>\n",
              "      <td>0</td>\n",
              "      <td>0</td>\n",
              "      <td>0</td>\n",
              "      <td>0</td>\n",
              "      <td>69</td>\n",
              "      <td>2</td>\n",
              "      <td>0</td>\n",
              "      <td>0.6</td>\n",
              "      <td>1710</td>\n",
              "      <td>5</td>\n",
              "      <td>72</td>\n",
              "    </tr>\n",
              "    <tr>\n",
              "      <th>2</th>\n",
              "      <td>Aguero</td>\n",
              "      <td>MCI</td>\n",
              "      <td>FWD</td>\n",
              "      <td>110</td>\n",
              "      <td>570.8</td>\n",
              "      <td>966.4</td>\n",
              "      <td>1484.0</td>\n",
              "      <td>302.5</td>\n",
              "      <td>12</td>\n",
              "      <td>21</td>\n",
              "      <td>6</td>\n",
              "      <td>0</td>\n",
              "      <td>0</td>\n",
              "      <td>0</td>\n",
              "      <td>0</td>\n",
              "      <td>2</td>\n",
              "      <td>0</td>\n",
              "      <td>12.6</td>\n",
              "      <td>1960</td>\n",
              "      <td>22</td>\n",
              "      <td>169</td>\n",
              "    </tr>\n",
              "    <tr>\n",
              "      <th>3</th>\n",
              "      <td>Ake</td>\n",
              "      <td>BOU</td>\n",
              "      <td>DEF</td>\n",
              "      <td>50</td>\n",
              "      <td>115.1</td>\n",
              "      <td>932.4</td>\n",
              "      <td>287.0</td>\n",
              "      <td>133.5</td>\n",
              "      <td>59</td>\n",
              "      <td>2</td>\n",
              "      <td>3</td>\n",
              "      <td>0</td>\n",
              "      <td>0</td>\n",
              "      <td>0</td>\n",
              "      <td>0</td>\n",
              "      <td>5</td>\n",
              "      <td>0</td>\n",
              "      <td>5.7</td>\n",
              "      <td>3352</td>\n",
              "      <td>8</td>\n",
              "      <td>102</td>\n",
              "    </tr>\n",
              "    <tr>\n",
              "      <th>4</th>\n",
              "      <td>Albrighton</td>\n",
              "      <td>LEI</td>\n",
              "      <td>MID</td>\n",
              "      <td>55</td>\n",
              "      <td>718.3</td>\n",
              "      <td>580.0</td>\n",
              "      <td>300.0</td>\n",
              "      <td>160.2</td>\n",
              "      <td>42</td>\n",
              "      <td>2</td>\n",
              "      <td>8</td>\n",
              "      <td>0</td>\n",
              "      <td>0</td>\n",
              "      <td>0</td>\n",
              "      <td>0</td>\n",
              "      <td>5</td>\n",
              "      <td>1</td>\n",
              "      <td>1.1</td>\n",
              "      <td>2533</td>\n",
              "      <td>12</td>\n",
              "      <td>107</td>\n",
              "    </tr>\n",
              "  </tbody>\n",
              "</table>\n",
              "</div>"
            ],
            "text/plain": [
              "         Name Team Position  Cost  ...   TSB  Minutes  Bonus  Points\n",
              "0  Adam Smith  BOU      DEF    45  ...   0.3     2067      3      56\n",
              "1      Adrian  WHU      GKP    45  ...   0.6     1710      5      72\n",
              "2      Aguero  MCI      FWD   110  ...  12.6     1960     22     169\n",
              "3         Ake  BOU      DEF    50  ...   5.7     3352      8     102\n",
              "4  Albrighton  LEI      MID    55  ...   1.1     2533     12     107\n",
              "\n",
              "[5 rows x 21 columns]"
            ]
          },
          "metadata": {
            "tags": []
          },
          "execution_count": 6
        }
      ]
    },
    {
      "cell_type": "markdown",
      "metadata": {
        "id": "dycLBdBA4x58",
        "colab_type": "text"
      },
      "source": [
        "Kernel Density Estimation"
      ]
    },
    {
      "cell_type": "code",
      "metadata": {
        "id": "WhpIPMnozDMM",
        "colab_type": "code",
        "colab": {
          "base_uri": "https://localhost:8080/",
          "height": 567
        },
        "outputId": "a858c598-218e-4249-e7e7-0ab31fc1fe6e"
      },
      "source": [
        "f = plt.figure(figsize=(16,9))\n",
        "ax1 = f.add_subplot(2,2,1)\n",
        "ax2 = f.add_subplot(2,2,2,sharex=ax1, sharey=ax1)\n",
        "ax3 = f.add_subplot(2,2,3,sharex=ax1, sharey=ax1)\n",
        "ax4 = f.add_subplot(2,2,4,sharex=ax1, sharey=ax1)\n",
        "ax1.set_title('FWD')\n",
        "sns.distplot(data[data.Position=='FWD'].Points, label='FWD',ax=ax1)\n",
        "ax1.axvline(np.mean(data[data.Position=='FWD'].Points),color='red', label='mean')\n",
        "ax2.set_title('MID')\n",
        "sns.distplot(data[data.Position=='MID'].Points, label='MID',ax=ax2)\n",
        "ax2.axvline(np.mean(data[data.Position=='MID'].Points),color='red', label='mean')\n",
        "ax3.set_title('DEF')\n",
        "sns.distplot(data[data.Position=='DEF'].Points, label='DEF',ax=ax3)\n",
        "ax3.axvline(np.mean(data[data.Position=='DEF'].Points),color='red', label='mean')\n",
        "ax4.set_title('GKP')\n",
        "sns.distplot(data[data.Position=='GKP'].Points, label='GKP',ax=ax4)\n",
        "ax4.axvline(np.mean(data[data.Position=='GKP'].Points),color='red', label='mean')\n",
        "plt.show()"
      ],
      "execution_count": 7,
      "outputs": [
        {
          "output_type": "display_data",
          "data": {
            "image/png": "[encoded data removed]",
            "text/plain": [
              "<Figure size 1152x648 with 4 Axes>"
            ]
          },
          "metadata": {
            "tags": []
          }
        }
      ]
    },
    {
      "cell_type": "markdown",
      "metadata": {
        "id": "mCn_YlQT41xI",
        "colab_type": "text"
      },
      "source": [
        "Except goalkeeper, all positions have a skewed plot. This can be inferred by the fact that teams have big squads and players are rotated throughout the playing season. On the other hand, teams have only a few goalkeepers and play their best one most of the time. Thus, justifying the bimodal plot."
      ]
    }
  ]
}